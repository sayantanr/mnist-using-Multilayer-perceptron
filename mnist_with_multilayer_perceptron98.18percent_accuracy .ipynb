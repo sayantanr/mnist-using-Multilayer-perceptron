{
  "nbformat": 4,
  "nbformat_minor": 0,
  "metadata": {
    "colab": {
      "name": "mnist with multilayer perceptron over 98 percent accuracy.ipynb",
      "provenance": []
    },
    "kernelspec": {
      "name": "python3",
      "display_name": "Python 3"
    },
    "language_info": {
      "name": "python"
    }
  },
  "cells": [
    {
      "cell_type": "code",
      "metadata": {
        "colab": {
          "base_uri": "https://localhost:8080/",
          "height": 333
        },
        "id": "PkYIJ_1JPSnI",
        "outputId": "7a94058f-5caf-4c94-af74-df4915d0ab0a"
      },
      "source": [
        "import keras\n",
        "import tensorflow as tf\n",
        "from sklearn.preprocessing import LabelBinarizer\n",
        "import matplotlib.pyplot as plt\n",
        "%matplotlib inline\n",
        "\n",
        "def load_dataset(flatten=False):\n",
        "    (X_train, y_train), (X_test, y_test) = tf.keras.datasets.mnist.load_data()\n",
        "\n",
        "    # normalize x\n",
        "    X_train = X_train.astype(float) / 255.\n",
        "    X_test = X_test.astype(float) / 255.\n",
        "\n",
        "    # we reserve the last 10000 training examples for validation\n",
        "    X_train, X_val = X_train[:-10000], X_train[-10000:]\n",
        "    y_train, y_val = y_train[:-10000], y_train[-10000:]\n",
        "\n",
        "    if flatten:\n",
        "        X_train = X_train.reshape([X_train.shape[0], -1])\n",
        "        X_val = X_val.reshape([X_val.shape[0], -1])\n",
        "        X_test = X_test.reshape([X_test.shape[0], -1])\n",
        "\n",
        "    return X_train, y_train, X_val, y_val, X_test, y_test\n",
        "\n",
        "X_train, y_train, X_val, y_val, X_test, y_test = load_dataset()\n",
        "## Printing dimensions\n",
        "print(X_train.shape, y_train.shape)\n",
        "## Visualizing the first digit\n",
        "plt.imshow(X_train[0], cmap=\"Greys\");"
      ],
      "execution_count": 4,
      "outputs": [
        {
          "output_type": "stream",
          "name": "stdout",
          "text": [
            "Downloading data from https://storage.googleapis.com/tensorflow/tf-keras-datasets/mnist.npz\n",
            "11493376/11490434 [==============================] - 0s 0us/step\n",
            "11501568/11490434 [==============================] - 0s 0us/step\n",
            "(50000, 28, 28) (50000,)\n"
          ]
        },
        {
          "output_type": "display_data",
          "data": {
            "image/png": "[encoded data removed]",
            "text/plain": [
              "<Figure size 432x288 with 1 Axes>"
            ]
          },
          "metadata": {
            "needs_background": "light"
          }
        }
      ]
    },
    {
      "cell_type": "code",
      "metadata": {
        "id": "_vVPiLefPqYq",
        "colab": {
          "base_uri": "https://localhost:8080/",
          "height": 0
        },
        "outputId": "5264a52c-f51e-46fa-b527-498b10c696a1"
      },
      "source": [
        "## Changing dimension of input images from N*28*28 to  N*784\n",
        "X_train = X_train.reshape((X_train.shape[0],X_train.shape[1]*X_train.shape[2]))\n",
        "X_test = X_test.reshape((X_test.shape[0],X_test.shape[1]*X_test.shape[2]))\n",
        "\n",
        "print('Train dimension:');print(X_train.shape)\n",
        "print('Test dimension:');print(X_test.shape)\n",
        "\n",
        "## Changing labels to one-hot encoded vector\n",
        "lb = LabelBinarizer()\n",
        "y_train = lb.fit_transform(y_train)\n",
        "y_test = lb.transform(y_test)\n",
        "print('Train labels dimension:');print(y_train.shape)\n",
        "print('Test labels dimension:');print(y_test.shape)"
      ],
      "execution_count": 5,
      "outputs": [
        {
          "output_type": "stream",
          "name": "stdout",
          "text": [
            "Train dimension:\n",
            "(50000, 784)\n",
            "Test dimension:\n",
            "(10000, 784)\n",
            "Train labels dimension:\n",
            "(50000, 10)\n",
            "Test labels dimension:\n",
            "(10000, 10)\n"
          ]
        }
      ]
    },
    {
      "cell_type": "code",
      "metadata": {
        "id": "sXVeMTtxQmZP"
      },
      "source": [
        "# Importing required libraries\n",
        "import numpy as np\n",
        "import tensorflow as tf\n",
        "from sklearn.metrics import roc_auc_score, accuracy_score\n",
        "s = tf.compat.v1.InteractiveSession()\n"
      ],
      "execution_count": 20,
      "outputs": []
    },
    {
      "cell_type": "code",
      "metadata": {
        "id": "V6nnKUxCQvH5"
      },
      "source": [
        "## Defining various initialization parameters for 784-512-256-10 MLP model\n",
        "num_classes = y_train.shape[1]\n",
        "num_features = X_train.shape[1]\n",
        "num_output = y_train.shape[1]\n",
        "num_layers_0 = 512\n",
        "num_layers_1 = 256\n",
        "starter_learning_rate = 0.001\n",
        "regularizer_rate = 0.1"
      ],
      "execution_count": 21,
      "outputs": []
    },
    {
      "cell_type": "code",
      "metadata": {
        "id": "rWg0vMglQ0Ku"
      },
      "source": [
        "import tensorflow.compat.v1 as tf\n",
        "\n",
        "tf.disable_v2_behavior() \n",
        "# Placeholders for the input data\n",
        "input_X = tf.placeholder('float32',shape =(None,num_features),name=\"input_X\")\n",
        "input_y = tf.placeholder('float32',shape = (None,num_classes),name='input_Y')\n",
        "## for dropout layer\n",
        "keep_prob = tf.placeholder(tf.float32)"
      ],
      "execution_count": 22,
      "outputs": []
    },
    {
      "cell_type": "code",
      "metadata": {
        "id": "A4Zb6z5hRNNM"
      },
      "source": [
        "## Weights initialized by random normal function with std_dev = 1/sqrt(number of input features)\n",
        "weights_0 = tf.Variable(tf.random_normal([num_features,num_layers_0], stddev=(1/tf.sqrt(float(num_features)))))\n",
        "bias_0 = tf.Variable(tf.random_normal([num_layers_0]))\n",
        "\n",
        "weights_1 = tf.Variable(tf.random_normal([num_layers_0,num_layers_1], stddev=(1/tf.sqrt(float(num_layers_0)))))\n",
        "bias_1 = tf.Variable(tf.random_normal([num_layers_1]))\n",
        "\n",
        "weights_2 = tf.Variable(tf.random_normal([num_layers_1,num_output], stddev=(1/tf.sqrt(float(num_layers_1)))))\n",
        "bias_2 = tf.Variable(tf.random_normal([num_output]))"
      ],
      "execution_count": 23,
      "outputs": []
    },
    {
      "cell_type": "code",
      "metadata": {
        "id": "svWBrXCPRWDY"
      },
      "source": [
        "## Initializing weigths and biases\n",
        "hidden_output_0 = tf.nn.relu(tf.matmul(input_X,weights_0)+bias_0)\n",
        "hidden_output_0_0 = tf.nn.dropout(hidden_output_0, keep_prob)\n",
        "\n",
        "hidden_output_1 = tf.nn.relu(tf.matmul(hidden_output_0_0,weights_1)+bias_1)\n",
        "hidden_output_1_1 = tf.nn.dropout(hidden_output_1, keep_prob)\n",
        "\n",
        "predicted_y = tf.sigmoid(tf.matmul(hidden_output_1_1,weights_2) + bias_2)"
      ],
      "execution_count": 24,
      "outputs": []
    },
    {
      "cell_type": "code",
      "metadata": {
        "id": "_R2Sb2_9Rb-N"
      },
      "source": [
        "## Defining the loss function\n",
        "loss = tf.reduce_mean(tf.nn.softmax_cross_entropy_with_logits_v2(logits=predicted_y,labels=input_y)) \\\n",
        "        + regularizer_rate*(tf.reduce_sum(tf.square(bias_0)) + tf.reduce_sum(tf.square(bias_1)))"
      ],
      "execution_count": 25,
      "outputs": []
    },
    {
      "cell_type": "code",
      "metadata": {
        "id": "dRfn3Q_URzw0"
      },
      "source": [
        "## Variable learning rate\n",
        "learning_rate = tf.train.exponential_decay(starter_learning_rate, 0, 5, 0.85, staircase=True)\n",
        "## Adam optimzer for finding the right weight\n",
        "optimizer = tf.train.AdamOptimizer(learning_rate).minimize(loss,var_list=[weights_0,weights_1,weights_2,\n",
        "                                                                         bias_0,bias_1,bias_2])"
      ],
      "execution_count": 26,
      "outputs": []
    },
    {
      "cell_type": "code",
      "metadata": {
        "id": "RvSSYPu5Rz3O"
      },
      "source": [
        "## Metrics definition\n",
        "correct_prediction = tf.equal(tf.argmax(y_train,1), tf.argmax(predicted_y,1))\n",
        "accuracy = tf.reduce_mean(tf.cast(correct_prediction, tf.float32))"
      ],
      "execution_count": 27,
      "outputs": []
    },
    {
      "cell_type": "code",
      "metadata": {
        "colab": {
          "base_uri": "https://localhost:8080/"
        },
        "id": "YddzGFKlRz6u",
        "outputId": "384fe189-a9a1-4602-bb63-821b77e6f454"
      },
      "source": [
        "## Training parameters\n",
        "batch_size = 128\n",
        "epochs=25\n",
        "dropout_prob = 0.6\n",
        "\n",
        "training_accuracy = []\n",
        "training_loss = []\n",
        "testing_accuracy = []\n",
        "\n",
        "s.run(tf.global_variables_initializer())\n",
        "\n",
        "for epoch in range(epochs):    \n",
        "    arr = np.arange(X_train.shape[0])\n",
        "    np.random.shuffle(arr)\n",
        "    for index in range(0,X_train.shape[0],batch_size):\n",
        "        s.run(optimizer, {input_X: X_train[arr[index:index+batch_size]],\n",
        "                          input_y: y_train[arr[index:index+batch_size]],\n",
        "                        keep_prob:dropout_prob})\n",
        "    training_accuracy.append(s.run(accuracy, feed_dict= {input_X:X_train, \n",
        "                                                         input_y: y_train,keep_prob:1}))\n",
        "    training_loss.append(s.run(loss, {input_X: X_train, \n",
        "                                      input_y: y_train,keep_prob:1}))\n",
        "    \n",
        "    ## Evaluation of model\n",
        "    testing_accuracy.append(accuracy_score(y_test.argmax(1), \n",
        "                            s.run(predicted_y, {input_X: X_test,keep_prob:1}).argmax(1)))\n",
        "    print(\"Epoch:{0}, Train loss: {1:.2f} Train acc: {2:.3f}, Test acc:{3:.3f}\".format(epoch,\n",
        "                                                                    training_loss[epoch],\n",
        "                                                                    training_accuracy[epoch],\n",
        "                                                                   testing_accuracy[epoch]))"
      ],
      "execution_count": 36,
      "outputs": [
        {
          "output_type": "stream",
          "name": "stdout",
          "text": [
            "Epoch:0, Train loss: 43.09 Train acc: 0.936, Test acc:0.936\n",
            "Epoch:1, Train loss: 24.53 Train acc: 0.955, Test acc:0.953\n",
            "Epoch:2, Train loss: 14.34 Train acc: 0.966, Test acc:0.962\n",
            "Epoch:3, Train loss: 8.66 Train acc: 0.970, Test acc:0.965\n",
            "Epoch:4, Train loss: 5.46 Train acc: 0.976, Test acc:0.969\n",
            "Epoch:5, Train loss: 3.66 Train acc: 0.979, Test acc:0.971\n",
            "Epoch:6, Train loss: 2.65 Train acc: 0.983, Test acc:0.974\n",
            "Epoch:7, Train loss: 2.10 Train acc: 0.984, Test acc:0.975\n",
            "Epoch:8, Train loss: 1.79 Train acc: 0.986, Test acc:0.976\n",
            "Epoch:9, Train loss: 1.63 Train acc: 0.987, Test acc:0.978\n",
            "Epoch:10, Train loss: 1.54 Train acc: 0.989, Test acc:0.977\n",
            "Epoch:11, Train loss: 1.50 Train acc: 0.989, Test acc:0.979\n",
            "Epoch:12, Train loss: 1.48 Train acc: 0.990, Test acc:0.979\n",
            "Epoch:13, Train loss: 1.48 Train acc: 0.989, Test acc:0.977\n",
            "Epoch:14, Train loss: 1.47 Train acc: 0.990, Test acc:0.979\n",
            "Epoch:15, Train loss: 1.47 Train acc: 0.991, Test acc:0.980\n",
            "Epoch:16, Train loss: 1.47 Train acc: 0.991, Test acc:0.979\n",
            "Epoch:17, Train loss: 1.47 Train acc: 0.992, Test acc:0.980\n",
            "Epoch:18, Train loss: 1.47 Train acc: 0.992, Test acc:0.981\n",
            "Epoch:19, Train loss: 1.47 Train acc: 0.993, Test acc:0.980\n",
            "Epoch:20, Train loss: 1.47 Train acc: 0.993, Test acc:0.981\n",
            "Epoch:21, Train loss: 1.47 Train acc: 0.994, Test acc:0.982\n",
            "Epoch:22, Train loss: 1.47 Train acc: 0.994, Test acc:0.980\n",
            "Epoch:23, Train loss: 1.47 Train acc: 0.994, Test acc:0.980\n",
            "Epoch:24, Train loss: 1.47 Train acc: 0.994, Test acc:0.982\n"
          ]
        }
      ]
    },
    {
      "cell_type": "code",
      "metadata": {
        "colab": {
          "base_uri": "https://localhost:8080/",
          "height": 313
        },
        "id": "xXBtoK0-Rz9q",
        "outputId": "d95d7771-4215-4d24-85ab-1759d04e8580"
      },
      "source": [
        "## Plotting chart of training and testing accuracy as a function of iterations\n",
        "iterations = list(range(epochs))\n",
        "plt.plot(iterations, training_accuracy, label='Train')\n",
        "plt.plot(iterations, testing_accuracy, label='Test')\n",
        "plt.ylabel('Accuracy')\n",
        "plt.xlabel('iterations')\n",
        "plt.show()\n",
        "print(\"Train Accuracy: {0:.4f}\".format(training_accuracy[-1]))\n",
        "print(\"Test Accuracy:{0:.4f}\".format(testing_accuracy[-1]))"
      ],
      "execution_count": 37,
      "outputs": [
        {
          "output_type": "display_data",
          "data": {
            "image/png": "[encoded data removed]",
            "text/plain": [
              "<Figure size 432x288 with 1 Axes>"
            ]
          },
          "metadata": {
            "needs_background": "light"
          }
        },
        {
          "output_type": "stream",
          "name": "stdout",
          "text": [
            "Train Accuracy: 0.9942\n",
            "Test Accuracy:0.9818\n"
          ]
        }
      ]
    },
    {
      "cell_type": "code",
      "metadata": {
        "id": "oOT7smxpdLLk"
      },
      "source": [
        ""
      ],
      "execution_count": null,
      "outputs": []
    }
  ]
}